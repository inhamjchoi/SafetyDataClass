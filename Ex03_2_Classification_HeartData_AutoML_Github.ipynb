{
  "nbformat": 4,
  "nbformat_minor": 0,
  "metadata": {
    "colab": {
      "provenance": [],
      "authorship_tag": "ABX9TyPuTQuAOzwHjfUlreWwIQSx",
      "include_colab_link": true
    },
    "kernelspec": {
      "name": "python3",
      "display_name": "Python 3"
    },
    "language_info": {
      "name": "python"
    }
  },
  "cells": [
    {
      "cell_type": "markdown",
      "metadata": {
        "id": "view-in-github",
        "colab_type": "text"
      },
      "source": [
        "<a href=\"https://colab.research.google.com/github/SungjooHwang/ICTclass/blob/main/Ex03_2_Classification_HeartData_AutoML_Github.ipynb\" target=\"_parent\"><img src=\"https://colab.research.google.com/assets/colab-badge.svg\" alt=\"Open In Colab\"/></a>"
      ]
    },
    {
      "cell_type": "code",
      "execution_count": null,
      "metadata": {
        "id": "nH3KogdcAQ6E"
      },
      "outputs": [],
      "source": [
        "# This script uses PyCaret, a low-code machine learning library that simplifies model training and comparison.\n",
        "# PyCaret is suitable for beginners, quick prototyping, and works well in Google Colab.\n",
        "# It automatically handles preprocessing, model training, cross-validation, and comparison of many algorithms.\n",
        "# Ideal for tabular data and classification or regression tasks.\n",
        "\n",
        "# PyCaret is especially useful when:\n",
        "# - You want to compare many models quickly without writing separate code for each\n",
        "# - You prefer automation of preprocessing and hyperparameter tuning\n",
        "# - You are working in a limited environment like Google Colab or Jupyter\n",
        "\n",
        "# If you need full control or custom model architecture (e.g., deep learning, text/image data), consider:\n",
        "# - scikit-learn for customizable ML pipelines\n",
        "# - XGBoost or LightGBM for high-performance gradient boosting\n",
        "# - PyTorch or TensorFlow for deep learning tasks\n",
        "# - Auto-sklearn or Google AutoML for advanced AutoML capabilities"
      ]
    },
    {
      "cell_type": "code",
      "source": [
        "!pip install pycaret"
      ],
      "metadata": {
        "id": "ZJs8Y_fnARlV"
      },
      "execution_count": null,
      "outputs": []
    },
    {
      "cell_type": "code",
      "source": [
        "from pycaret.classification import *     # PyCaret's classification module\n",
        "import pandas as pd"
      ],
      "metadata": {
        "id": "0WIkC0ZNATGu"
      },
      "execution_count": null,
      "outputs": []
    },
    {
      "cell_type": "code",
      "source": [
        "# Load the dataset\n",
        "df = pd.read_csv('Ex03_2_heartData.csv')"
      ],
      "metadata": {
        "id": "VWnIB1vhAURH"
      },
      "execution_count": null,
      "outputs": []
    },
    {
      "cell_type": "code",
      "source": [
        "# Set up the classification environment (silent option removed)\n",
        "#    - data: entire dataframe\n",
        "#    - target: column you want to predict (must be in df)\n",
        "#    - session_id: random seed for reproducibility\n",
        "#    - verbose: suppress output during setup\n",
        "clf_setup = setup(\n",
        "    data=df,\n",
        "    target='HeartDisease',\n",
        "    session_id=42,\n",
        "    verbose=False  # suppress step-by-step print\n",
        ")"
      ],
      "metadata": {
        "id": "U8I78wiRAWFH"
      },
      "execution_count": null,
      "outputs": []
    },
    {
      "cell_type": "code",
      "source": [
        "# Train and compare multiple classification models\n",
        "#    - Compare all available models and select the best based on default metric (e.g., Accuracy)\n",
        "#    - This automatically trains multiple models and evaluates them using cross-validation.\n",
        "best_model = compare_models()"
      ],
      "metadata": {
        "id": "ddOes7AUAW65"
      },
      "execution_count": null,
      "outputs": []
    },
    {
      "cell_type": "code",
      "source": [
        "# 5. Print the selected best model\n",
        "print(\"Best model selected by PyCaret:\")\n",
        "print(best_model)"
      ],
      "metadata": {
        "id": "ZzJeWDe2AYBh"
      },
      "execution_count": null,
      "outputs": []
    },
    {
      "cell_type": "code",
      "source": [
        "# Display performance report with visualizations (confusion matrix, ROC, feature importance, etc.)\n",
        "evaluate_model(best_model)"
      ],
      "metadata": {
        "id": "SJRY43xYAY_p"
      },
      "execution_count": null,
      "outputs": []
    },
    {
      "cell_type": "code",
      "source": [
        "# Make predictions using the best model\n",
        "predictions = predict_model(best_model, data=df)\n",
        "predictions.head()"
      ],
      "metadata": {
        "id": "9G-97i47AcL7"
      },
      "execution_count": null,
      "outputs": []
    },
    {
      "cell_type": "code",
      "source": [
        "# Save the final trained model to disk\n",
        "save_model(best_model, 'best_heart_model_PyCaret')"
      ],
      "metadata": {
        "id": "22jdJmpeAa5B"
      },
      "execution_count": null,
      "outputs": []
    }
  ]
}